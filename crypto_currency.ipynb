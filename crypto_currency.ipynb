{
 "cells": [
  {
   "cell_type": "markdown",
   "id": "4cc4af8b",
   "metadata": {},
   "source": [
    "### Dependencies"
   ]
  },
  {
   "cell_type": "code",
   "execution_count": 1,
   "id": "996c1ab0",
   "metadata": {},
   "outputs": [],
   "source": [
    "from sklearn.preprocessing import normalize\n",
    "from sklearn.preprocessing import StandardScaler\n",
    "import matplotlib.pyplot as plt\n",
    "from pathlib import Path\n",
    "import pandas as pd\n",
    "from sklearn.decomposition import PCA\n",
    "from sklearn.cluster import KMeans\n",
    "import plotly.express as px\n",
    "from sklearn.manifold import TSNE"
   ]
  },
  {
   "cell_type": "markdown",
   "id": "b5d6f88f",
   "metadata": {},
   "source": [
    "### Data Preparation"
   ]
  },
  {
   "cell_type": "code",
   "execution_count": 2,
   "id": "2dbb380a",
   "metadata": {},
   "outputs": [],
   "source": [
    "# Read in CSV\n",
    "file = Path('crypto_data.csv')\n",
    "df = pd.read_csv(file)"
   ]
  },
  {
   "cell_type": "code",
   "execution_count": 3,
   "id": "f331677d",
   "metadata": {},
   "outputs": [
    {
     "data": {
      "text/html": [
       "<div>\n",
       "<style scoped>\n",
       "    .dataframe tbody tr th:only-of-type {\n",
       "        vertical-align: middle;\n",
       "    }\n",
       "\n",
       "    .dataframe tbody tr th {\n",
       "        vertical-align: top;\n",
       "    }\n",
       "\n",
       "    .dataframe thead th {\n",
       "        text-align: right;\n",
       "    }\n",
       "</style>\n",
       "<table border=\"1\" class=\"dataframe\">\n",
       "  <thead>\n",
       "    <tr style=\"text-align: right;\">\n",
       "      <th></th>\n",
       "      <th>Unnamed: 0</th>\n",
       "      <th>CoinName</th>\n",
       "      <th>Algorithm</th>\n",
       "      <th>IsTrading</th>\n",
       "      <th>ProofType</th>\n",
       "      <th>TotalCoinsMined</th>\n",
       "      <th>TotalCoinSupply</th>\n",
       "    </tr>\n",
       "  </thead>\n",
       "  <tbody>\n",
       "    <tr>\n",
       "      <th>332</th>\n",
       "      <td>I0C</td>\n",
       "      <td>I0coin</td>\n",
       "      <td>SHA-256</td>\n",
       "      <td>True</td>\n",
       "      <td>PoW</td>\n",
       "      <td>2.099748e+07</td>\n",
       "      <td>21000000</td>\n",
       "    </tr>\n",
       "    <tr>\n",
       "      <th>607</th>\n",
       "      <td>S8C</td>\n",
       "      <td>S88 Coin</td>\n",
       "      <td>Scrypt</td>\n",
       "      <td>True</td>\n",
       "      <td>PoW/PoS</td>\n",
       "      <td>NaN</td>\n",
       "      <td>520000000</td>\n",
       "    </tr>\n",
       "    <tr>\n",
       "      <th>637</th>\n",
       "      <td>BOMBC</td>\n",
       "      <td>BombCoin</td>\n",
       "      <td>Scrypt</td>\n",
       "      <td>True</td>\n",
       "      <td>PoW/PoS</td>\n",
       "      <td>NaN</td>\n",
       "      <td>4516129032</td>\n",
       "    </tr>\n",
       "    <tr>\n",
       "      <th>698</th>\n",
       "      <td>TAJ</td>\n",
       "      <td>TajCoin</td>\n",
       "      <td>Blake2S</td>\n",
       "      <td>True</td>\n",
       "      <td>PoW/PoS</td>\n",
       "      <td>1.218420e+07</td>\n",
       "      <td>36900000</td>\n",
       "    </tr>\n",
       "    <tr>\n",
       "      <th>346</th>\n",
       "      <td>TRUMP</td>\n",
       "      <td>TrumpCoin</td>\n",
       "      <td>Blake</td>\n",
       "      <td>True</td>\n",
       "      <td>PoS</td>\n",
       "      <td>0.000000e+00</td>\n",
       "      <td>12000000</td>\n",
       "    </tr>\n",
       "    <tr>\n",
       "      <th>540</th>\n",
       "      <td>ZECD</td>\n",
       "      <td>ZCashDarkCoin</td>\n",
       "      <td>Scrypt</td>\n",
       "      <td>True</td>\n",
       "      <td>PoW</td>\n",
       "      <td>NaN</td>\n",
       "      <td>500000000</td>\n",
       "    </tr>\n",
       "    <tr>\n",
       "      <th>909</th>\n",
       "      <td>NBR</td>\n",
       "      <td>Niobio Cash</td>\n",
       "      <td>CryptoNight</td>\n",
       "      <td>True</td>\n",
       "      <td>PoW</td>\n",
       "      <td>1.339325e+08</td>\n",
       "      <td>336000000</td>\n",
       "    </tr>\n",
       "    <tr>\n",
       "      <th>425</th>\n",
       "      <td>CJ</td>\n",
       "      <td>CryptoJacks</td>\n",
       "      <td>X13</td>\n",
       "      <td>True</td>\n",
       "      <td>PoW/PoS</td>\n",
       "      <td>NaN</td>\n",
       "      <td>500000000</td>\n",
       "    </tr>\n",
       "    <tr>\n",
       "      <th>185</th>\n",
       "      <td>ULTC</td>\n",
       "      <td>Umbrella</td>\n",
       "      <td>SHA-256</td>\n",
       "      <td>True</td>\n",
       "      <td>PoW</td>\n",
       "      <td>0.000000e+00</td>\n",
       "      <td>2625000</td>\n",
       "    </tr>\n",
       "    <tr>\n",
       "      <th>166</th>\n",
       "      <td>SILK</td>\n",
       "      <td>SilkCoin</td>\n",
       "      <td>Scrypt</td>\n",
       "      <td>True</td>\n",
       "      <td>PoW/PoS</td>\n",
       "      <td>0.000000e+00</td>\n",
       "      <td>1000000</td>\n",
       "    </tr>\n",
       "  </tbody>\n",
       "</table>\n",
       "</div>"
      ],
      "text/plain": [
       "    Unnamed: 0       CoinName    Algorithm  IsTrading ProofType  \\\n",
       "332        I0C         I0coin      SHA-256       True       PoW   \n",
       "607        S8C       S88 Coin       Scrypt       True   PoW/PoS   \n",
       "637      BOMBC       BombCoin       Scrypt       True   PoW/PoS   \n",
       "698        TAJ        TajCoin      Blake2S       True   PoW/PoS   \n",
       "346      TRUMP      TrumpCoin        Blake       True       PoS   \n",
       "540       ZECD  ZCashDarkCoin       Scrypt       True       PoW   \n",
       "909        NBR    Niobio Cash  CryptoNight       True       PoW   \n",
       "425         CJ    CryptoJacks          X13       True   PoW/PoS   \n",
       "185       ULTC       Umbrella      SHA-256       True       PoW   \n",
       "166       SILK       SilkCoin       Scrypt       True   PoW/PoS   \n",
       "\n",
       "     TotalCoinsMined TotalCoinSupply  \n",
       "332     2.099748e+07        21000000  \n",
       "607              NaN       520000000  \n",
       "637              NaN      4516129032  \n",
       "698     1.218420e+07        36900000  \n",
       "346     0.000000e+00        12000000  \n",
       "540              NaN       500000000  \n",
       "909     1.339325e+08       336000000  \n",
       "425              NaN       500000000  \n",
       "185     0.000000e+00         2625000  \n",
       "166     0.000000e+00         1000000  "
      ]
     },
     "execution_count": 3,
     "metadata": {},
     "output_type": "execute_result"
    }
   ],
   "source": [
    "# Preview Data\n",
    "df.sample(10)"
   ]
  },
  {
   "cell_type": "code",
   "execution_count": 4,
   "id": "99427e01",
   "metadata": {},
   "outputs": [
    {
     "data": {
      "text/html": [
       "<div>\n",
       "<style scoped>\n",
       "    .dataframe tbody tr th:only-of-type {\n",
       "        vertical-align: middle;\n",
       "    }\n",
       "\n",
       "    .dataframe tbody tr th {\n",
       "        vertical-align: top;\n",
       "    }\n",
       "\n",
       "    .dataframe thead th {\n",
       "        text-align: right;\n",
       "    }\n",
       "</style>\n",
       "<table border=\"1\" class=\"dataframe\">\n",
       "  <thead>\n",
       "    <tr style=\"text-align: right;\">\n",
       "      <th></th>\n",
       "      <th>Unnamed: 0</th>\n",
       "      <th>CoinName</th>\n",
       "      <th>Algorithm</th>\n",
       "      <th>IsTrading</th>\n",
       "      <th>ProofType</th>\n",
       "      <th>TotalCoinsMined</th>\n",
       "      <th>TotalCoinSupply</th>\n",
       "    </tr>\n",
       "  </thead>\n",
       "  <tbody>\n",
       "    <tr>\n",
       "      <th>0</th>\n",
       "      <td>42</td>\n",
       "      <td>42 Coin</td>\n",
       "      <td>Scrypt</td>\n",
       "      <td>True</td>\n",
       "      <td>PoW/PoS</td>\n",
       "      <td>4.199995e+01</td>\n",
       "      <td>42</td>\n",
       "    </tr>\n",
       "    <tr>\n",
       "      <th>1</th>\n",
       "      <td>365</td>\n",
       "      <td>365Coin</td>\n",
       "      <td>X11</td>\n",
       "      <td>True</td>\n",
       "      <td>PoW/PoS</td>\n",
       "      <td>NaN</td>\n",
       "      <td>2300000000</td>\n",
       "    </tr>\n",
       "    <tr>\n",
       "      <th>2</th>\n",
       "      <td>404</td>\n",
       "      <td>404Coin</td>\n",
       "      <td>Scrypt</td>\n",
       "      <td>True</td>\n",
       "      <td>PoW/PoS</td>\n",
       "      <td>1.055185e+09</td>\n",
       "      <td>532000000</td>\n",
       "    </tr>\n",
       "    <tr>\n",
       "      <th>3</th>\n",
       "      <td>611</td>\n",
       "      <td>SixEleven</td>\n",
       "      <td>SHA-256</td>\n",
       "      <td>True</td>\n",
       "      <td>PoW</td>\n",
       "      <td>NaN</td>\n",
       "      <td>611000</td>\n",
       "    </tr>\n",
       "    <tr>\n",
       "      <th>4</th>\n",
       "      <td>808</td>\n",
       "      <td>808</td>\n",
       "      <td>SHA-256</td>\n",
       "      <td>True</td>\n",
       "      <td>PoW/PoS</td>\n",
       "      <td>0.000000e+00</td>\n",
       "      <td>0</td>\n",
       "    </tr>\n",
       "  </tbody>\n",
       "</table>\n",
       "</div>"
      ],
      "text/plain": [
       "  Unnamed: 0   CoinName Algorithm  IsTrading ProofType  TotalCoinsMined  \\\n",
       "0         42    42 Coin    Scrypt       True   PoW/PoS     4.199995e+01   \n",
       "1        365    365Coin       X11       True   PoW/PoS              NaN   \n",
       "2        404    404Coin    Scrypt       True   PoW/PoS     1.055185e+09   \n",
       "3        611  SixEleven   SHA-256       True       PoW              NaN   \n",
       "4        808        808   SHA-256       True   PoW/PoS     0.000000e+00   \n",
       "\n",
       "  TotalCoinSupply  \n",
       "0              42  \n",
       "1      2300000000  \n",
       "2       532000000  \n",
       "3          611000  \n",
       "4               0  "
      ]
     },
     "execution_count": 4,
     "metadata": {},
     "output_type": "execute_result"
    }
   ],
   "source": [
    "# Filter DataFrame by currency that is traded\n",
    "crypto_df = df[df[\"IsTrading\"] == True]\n",
    "crypto_df.head()"
   ]
  },
  {
   "cell_type": "code",
   "execution_count": 5,
   "id": "b291d9c2",
   "metadata": {
    "scrolled": true
   },
   "outputs": [
    {
     "data": {
      "text/plain": [
       "Unnamed: 0           0\n",
       "CoinName             0\n",
       "Algorithm            0\n",
       "IsTrading            0\n",
       "ProofType            0\n",
       "TotalCoinsMined    459\n",
       "TotalCoinSupply      0\n",
       "dtype: int64"
      ]
     },
     "execution_count": 5,
     "metadata": {},
     "output_type": "execute_result"
    }
   ],
   "source": [
    "# Count Null Values by column\n",
    "crypto_df.isnull().sum(axis=0)"
   ]
  },
  {
   "cell_type": "code",
   "execution_count": 6,
   "id": "b453a7c6",
   "metadata": {},
   "outputs": [],
   "source": [
    "# Remove all rows that have at least one null value\n",
    "crypto_df = crypto_df.dropna(how=\"any\", axis=0)"
   ]
  },
  {
   "cell_type": "code",
   "execution_count": 7,
   "id": "0401bd81",
   "metadata": {},
   "outputs": [
    {
     "data": {
      "text/plain": [
       "Unnamed: 0         0\n",
       "CoinName           0\n",
       "Algorithm          0\n",
       "IsTrading          0\n",
       "ProofType          0\n",
       "TotalCoinsMined    0\n",
       "TotalCoinSupply    0\n",
       "dtype: int64"
      ]
     },
     "execution_count": 7,
     "metadata": {},
     "output_type": "execute_result"
    }
   ],
   "source": [
    "# Count Null Values by column\n",
    "crypto_df.isnull().sum(axis=0)"
   ]
  },
  {
   "cell_type": "code",
   "execution_count": 8,
   "id": "c706790a",
   "metadata": {},
   "outputs": [
    {
     "data": {
      "text/html": [
       "<div>\n",
       "<style scoped>\n",
       "    .dataframe tbody tr th:only-of-type {\n",
       "        vertical-align: middle;\n",
       "    }\n",
       "\n",
       "    .dataframe tbody tr th {\n",
       "        vertical-align: top;\n",
       "    }\n",
       "\n",
       "    .dataframe thead th {\n",
       "        text-align: right;\n",
       "    }\n",
       "</style>\n",
       "<table border=\"1\" class=\"dataframe\">\n",
       "  <thead>\n",
       "    <tr style=\"text-align: right;\">\n",
       "      <th></th>\n",
       "      <th>Unnamed: 0</th>\n",
       "      <th>CoinName</th>\n",
       "      <th>Algorithm</th>\n",
       "      <th>IsTrading</th>\n",
       "      <th>ProofType</th>\n",
       "      <th>TotalCoinsMined</th>\n",
       "      <th>TotalCoinSupply</th>\n",
       "    </tr>\n",
       "  </thead>\n",
       "  <tbody>\n",
       "    <tr>\n",
       "      <th>0</th>\n",
       "      <td>42</td>\n",
       "      <td>42 Coin</td>\n",
       "      <td>Scrypt</td>\n",
       "      <td>True</td>\n",
       "      <td>PoW/PoS</td>\n",
       "      <td>4.199995e+01</td>\n",
       "      <td>42</td>\n",
       "    </tr>\n",
       "    <tr>\n",
       "      <th>2</th>\n",
       "      <td>404</td>\n",
       "      <td>404Coin</td>\n",
       "      <td>Scrypt</td>\n",
       "      <td>True</td>\n",
       "      <td>PoW/PoS</td>\n",
       "      <td>1.055185e+09</td>\n",
       "      <td>532000000</td>\n",
       "    </tr>\n",
       "    <tr>\n",
       "      <th>5</th>\n",
       "      <td>1337</td>\n",
       "      <td>EliteCoin</td>\n",
       "      <td>X13</td>\n",
       "      <td>True</td>\n",
       "      <td>PoW/PoS</td>\n",
       "      <td>2.927942e+10</td>\n",
       "      <td>314159265359</td>\n",
       "    </tr>\n",
       "    <tr>\n",
       "      <th>7</th>\n",
       "      <td>BTC</td>\n",
       "      <td>Bitcoin</td>\n",
       "      <td>SHA-256</td>\n",
       "      <td>True</td>\n",
       "      <td>PoW</td>\n",
       "      <td>1.792718e+07</td>\n",
       "      <td>21000000</td>\n",
       "    </tr>\n",
       "    <tr>\n",
       "      <th>8</th>\n",
       "      <td>ETH</td>\n",
       "      <td>Ethereum</td>\n",
       "      <td>Ethash</td>\n",
       "      <td>True</td>\n",
       "      <td>PoW</td>\n",
       "      <td>1.076842e+08</td>\n",
       "      <td>0</td>\n",
       "    </tr>\n",
       "  </tbody>\n",
       "</table>\n",
       "</div>"
      ],
      "text/plain": [
       "  Unnamed: 0   CoinName Algorithm  IsTrading ProofType  TotalCoinsMined  \\\n",
       "0         42    42 Coin    Scrypt       True   PoW/PoS     4.199995e+01   \n",
       "2        404    404Coin    Scrypt       True   PoW/PoS     1.055185e+09   \n",
       "5       1337  EliteCoin       X13       True   PoW/PoS     2.927942e+10   \n",
       "7        BTC    Bitcoin   SHA-256       True       PoW     1.792718e+07   \n",
       "8        ETH   Ethereum    Ethash       True       PoW     1.076842e+08   \n",
       "\n",
       "  TotalCoinSupply  \n",
       "0              42  \n",
       "2       532000000  \n",
       "5    314159265359  \n",
       "7        21000000  \n",
       "8               0  "
      ]
     },
     "execution_count": 8,
     "metadata": {},
     "output_type": "execute_result"
    }
   ],
   "source": [
    "# Filter for cryptocurrencies that have been mined. That is, the total coins mined should be greater than zero.\n",
    "crypto_df = df[df[\"TotalCoinsMined\"] > 0]\n",
    "crypto_df.head()"
   ]
  },
  {
   "cell_type": "code",
   "execution_count": 9,
   "id": "4e20216f",
   "metadata": {},
   "outputs": [
    {
     "data": {
      "text/plain": [
       "Unnamed: 0          object\n",
       "CoinName            object\n",
       "Algorithm           object\n",
       "IsTrading             bool\n",
       "ProofType           object\n",
       "TotalCoinsMined    float64\n",
       "TotalCoinSupply     object\n",
       "dtype: object"
      ]
     },
     "execution_count": 9,
     "metadata": {},
     "output_type": "execute_result"
    }
   ],
   "source": [
    "# View Data types\n",
    "crypto_df.dtypes"
   ]
  },
  {
   "cell_type": "code",
   "execution_count": 10,
   "id": "2f85c6e7",
   "metadata": {},
   "outputs": [
    {
     "data": {
      "text/plain": [
       "73"
      ]
     },
     "execution_count": 10,
     "metadata": {},
     "output_type": "execute_result"
    }
   ],
   "source": [
    "# Usingn algorithm seems to be an interesting basis to use, so we need to see what values are included.\n",
    "crypto_df[\"Algorithm\"].nunique()"
   ]
  },
  {
   "cell_type": "code",
   "execution_count": 11,
   "id": "d1248d76",
   "metadata": {
    "scrolled": true
   },
   "outputs": [
    {
     "data": {
      "text/html": [
       "<div>\n",
       "<style scoped>\n",
       "    .dataframe tbody tr th:only-of-type {\n",
       "        vertical-align: middle;\n",
       "    }\n",
       "\n",
       "    .dataframe tbody tr th {\n",
       "        vertical-align: top;\n",
       "    }\n",
       "\n",
       "    .dataframe thead th {\n",
       "        text-align: right;\n",
       "    }\n",
       "</style>\n",
       "<table border=\"1\" class=\"dataframe\">\n",
       "  <thead>\n",
       "    <tr style=\"text-align: right;\">\n",
       "      <th></th>\n",
       "      <th>CoinName</th>\n",
       "      <th>Algorithm</th>\n",
       "      <th>IsTrading</th>\n",
       "      <th>ProofType</th>\n",
       "      <th>TotalCoinsMined</th>\n",
       "      <th>TotalCoinSupply</th>\n",
       "    </tr>\n",
       "  </thead>\n",
       "  <tbody>\n",
       "    <tr>\n",
       "      <th>0</th>\n",
       "      <td>42 Coin</td>\n",
       "      <td>Scrypt</td>\n",
       "      <td>True</td>\n",
       "      <td>PoW/PoS</td>\n",
       "      <td>4.199995e+01</td>\n",
       "      <td>42</td>\n",
       "    </tr>\n",
       "    <tr>\n",
       "      <th>2</th>\n",
       "      <td>404Coin</td>\n",
       "      <td>Scrypt</td>\n",
       "      <td>True</td>\n",
       "      <td>PoW/PoS</td>\n",
       "      <td>1.055185e+09</td>\n",
       "      <td>532000000</td>\n",
       "    </tr>\n",
       "    <tr>\n",
       "      <th>5</th>\n",
       "      <td>EliteCoin</td>\n",
       "      <td>X13</td>\n",
       "      <td>True</td>\n",
       "      <td>PoW/PoS</td>\n",
       "      <td>2.927942e+10</td>\n",
       "      <td>314159265359</td>\n",
       "    </tr>\n",
       "    <tr>\n",
       "      <th>7</th>\n",
       "      <td>Bitcoin</td>\n",
       "      <td>SHA-256</td>\n",
       "      <td>True</td>\n",
       "      <td>PoW</td>\n",
       "      <td>1.792718e+07</td>\n",
       "      <td>21000000</td>\n",
       "    </tr>\n",
       "    <tr>\n",
       "      <th>8</th>\n",
       "      <td>Ethereum</td>\n",
       "      <td>Ethash</td>\n",
       "      <td>True</td>\n",
       "      <td>PoW</td>\n",
       "      <td>1.076842e+08</td>\n",
       "      <td>0</td>\n",
       "    </tr>\n",
       "  </tbody>\n",
       "</table>\n",
       "</div>"
      ],
      "text/plain": [
       "    CoinName Algorithm  IsTrading ProofType  TotalCoinsMined TotalCoinSupply\n",
       "0    42 Coin    Scrypt       True   PoW/PoS     4.199995e+01              42\n",
       "2    404Coin    Scrypt       True   PoW/PoS     1.055185e+09       532000000\n",
       "5  EliteCoin       X13       True   PoW/PoS     2.927942e+10    314159265359\n",
       "7    Bitcoin   SHA-256       True       PoW     1.792718e+07        21000000\n",
       "8   Ethereum    Ethash       True       PoW     1.076842e+08               0"
      ]
     },
     "execution_count": 11,
     "metadata": {},
     "output_type": "execute_result"
    }
   ],
   "source": [
    "# Since the coin names do not contribute to the analysis of the data, delete the `CoinName` and `Unnamed`.\n",
    "crypto_df = crypto_df.drop(\"Unnamed: 0\", 1)\n",
    "crypto_df.head()"
   ]
  },
  {
   "cell_type": "code",
   "execution_count": 12,
   "id": "95fafb25",
   "metadata": {},
   "outputs": [],
   "source": [
    "# Drop Coin Name\n",
    "crypto_df = crypto_df.drop(\"CoinName\", 1)"
   ]
  },
  {
   "cell_type": "code",
   "execution_count": 13,
   "id": "f507454f",
   "metadata": {
    "scrolled": true
   },
   "outputs": [
    {
     "data": {
      "text/html": [
       "<div>\n",
       "<style scoped>\n",
       "    .dataframe tbody tr th:only-of-type {\n",
       "        vertical-align: middle;\n",
       "    }\n",
       "\n",
       "    .dataframe tbody tr th {\n",
       "        vertical-align: top;\n",
       "    }\n",
       "\n",
       "    .dataframe thead th {\n",
       "        text-align: right;\n",
       "    }\n",
       "</style>\n",
       "<table border=\"1\" class=\"dataframe\">\n",
       "  <thead>\n",
       "    <tr style=\"text-align: right;\">\n",
       "      <th></th>\n",
       "      <th>Algorithm</th>\n",
       "      <th>IsTrading</th>\n",
       "      <th>ProofType</th>\n",
       "      <th>TotalCoinsMined</th>\n",
       "      <th>TotalCoinSupply</th>\n",
       "    </tr>\n",
       "  </thead>\n",
       "  <tbody>\n",
       "    <tr>\n",
       "      <th>0</th>\n",
       "      <td>Scrypt</td>\n",
       "      <td>1</td>\n",
       "      <td>PoW/PoS</td>\n",
       "      <td>4.199995e+01</td>\n",
       "      <td>42</td>\n",
       "    </tr>\n",
       "    <tr>\n",
       "      <th>2</th>\n",
       "      <td>Scrypt</td>\n",
       "      <td>1</td>\n",
       "      <td>PoW/PoS</td>\n",
       "      <td>1.055185e+09</td>\n",
       "      <td>532000000</td>\n",
       "    </tr>\n",
       "    <tr>\n",
       "      <th>5</th>\n",
       "      <td>X13</td>\n",
       "      <td>1</td>\n",
       "      <td>PoW/PoS</td>\n",
       "      <td>2.927942e+10</td>\n",
       "      <td>314159265359</td>\n",
       "    </tr>\n",
       "    <tr>\n",
       "      <th>7</th>\n",
       "      <td>SHA-256</td>\n",
       "      <td>1</td>\n",
       "      <td>PoW</td>\n",
       "      <td>1.792718e+07</td>\n",
       "      <td>21000000</td>\n",
       "    </tr>\n",
       "    <tr>\n",
       "      <th>8</th>\n",
       "      <td>Ethash</td>\n",
       "      <td>1</td>\n",
       "      <td>PoW</td>\n",
       "      <td>1.076842e+08</td>\n",
       "      <td>0</td>\n",
       "    </tr>\n",
       "  </tbody>\n",
       "</table>\n",
       "</div>"
      ],
      "text/plain": [
       "  Algorithm  IsTrading ProofType  TotalCoinsMined TotalCoinSupply\n",
       "0    Scrypt          1   PoW/PoS     4.199995e+01              42\n",
       "2    Scrypt          1   PoW/PoS     1.055185e+09       532000000\n",
       "5       X13          1   PoW/PoS     2.927942e+10    314159265359\n",
       "7   SHA-256          1       PoW     1.792718e+07        21000000\n",
       "8    Ethash          1       PoW     1.076842e+08               0"
      ]
     },
     "execution_count": 13,
     "metadata": {},
     "output_type": "execute_result"
    }
   ],
   "source": [
    "# Transform Previous IsTrading Column\n",
    "crypto_df.replace({False: 0, True: 1}, inplace=True)\n",
    "\n",
    "crypto_df.head()"
   ]
  },
  {
   "cell_type": "code",
   "execution_count": 14,
   "id": "a6779a9b",
   "metadata": {},
   "outputs": [
    {
     "data": {
      "text/html": [
       "<div>\n",
       "<style scoped>\n",
       "    .dataframe tbody tr th:only-of-type {\n",
       "        vertical-align: middle;\n",
       "    }\n",
       "\n",
       "    .dataframe tbody tr th {\n",
       "        vertical-align: top;\n",
       "    }\n",
       "\n",
       "    .dataframe thead th {\n",
       "        text-align: right;\n",
       "    }\n",
       "</style>\n",
       "<table border=\"1\" class=\"dataframe\">\n",
       "  <thead>\n",
       "    <tr style=\"text-align: right;\">\n",
       "      <th></th>\n",
       "      <th>IsTrading</th>\n",
       "      <th>TotalCoinsMined</th>\n",
       "      <th>TotalCoinSupply</th>\n",
       "      <th>Algorithm_1GB AES Pattern Search</th>\n",
       "      <th>Algorithm_536</th>\n",
       "      <th>Algorithm_Argon2d</th>\n",
       "      <th>Algorithm_BLAKE256</th>\n",
       "      <th>Algorithm_Blake</th>\n",
       "      <th>Algorithm_Blake2S</th>\n",
       "      <th>Algorithm_Blake2b</th>\n",
       "      <th>...</th>\n",
       "      <th>ProofType_PoW/PoS</th>\n",
       "      <th>ProofType_PoW/PoS</th>\n",
       "      <th>ProofType_PoW/PoW</th>\n",
       "      <th>ProofType_PoW/nPoS</th>\n",
       "      <th>ProofType_Pos</th>\n",
       "      <th>ProofType_Proof of Authority</th>\n",
       "      <th>ProofType_Proof of Trust</th>\n",
       "      <th>ProofType_TPoS</th>\n",
       "      <th>ProofType_Zero-Knowledge Proof</th>\n",
       "      <th>ProofType_dPoW/PoW</th>\n",
       "    </tr>\n",
       "  </thead>\n",
       "  <tbody>\n",
       "    <tr>\n",
       "      <th>0</th>\n",
       "      <td>1</td>\n",
       "      <td>4.199995e+01</td>\n",
       "      <td>42</td>\n",
       "      <td>0</td>\n",
       "      <td>0</td>\n",
       "      <td>0</td>\n",
       "      <td>0</td>\n",
       "      <td>0</td>\n",
       "      <td>0</td>\n",
       "      <td>0</td>\n",
       "      <td>...</td>\n",
       "      <td>1</td>\n",
       "      <td>0</td>\n",
       "      <td>0</td>\n",
       "      <td>0</td>\n",
       "      <td>0</td>\n",
       "      <td>0</td>\n",
       "      <td>0</td>\n",
       "      <td>0</td>\n",
       "      <td>0</td>\n",
       "      <td>0</td>\n",
       "    </tr>\n",
       "    <tr>\n",
       "      <th>2</th>\n",
       "      <td>1</td>\n",
       "      <td>1.055185e+09</td>\n",
       "      <td>532000000</td>\n",
       "      <td>0</td>\n",
       "      <td>0</td>\n",
       "      <td>0</td>\n",
       "      <td>0</td>\n",
       "      <td>0</td>\n",
       "      <td>0</td>\n",
       "      <td>0</td>\n",
       "      <td>...</td>\n",
       "      <td>1</td>\n",
       "      <td>0</td>\n",
       "      <td>0</td>\n",
       "      <td>0</td>\n",
       "      <td>0</td>\n",
       "      <td>0</td>\n",
       "      <td>0</td>\n",
       "      <td>0</td>\n",
       "      <td>0</td>\n",
       "      <td>0</td>\n",
       "    </tr>\n",
       "    <tr>\n",
       "      <th>5</th>\n",
       "      <td>1</td>\n",
       "      <td>2.927942e+10</td>\n",
       "      <td>314159265359</td>\n",
       "      <td>0</td>\n",
       "      <td>0</td>\n",
       "      <td>0</td>\n",
       "      <td>0</td>\n",
       "      <td>0</td>\n",
       "      <td>0</td>\n",
       "      <td>0</td>\n",
       "      <td>...</td>\n",
       "      <td>1</td>\n",
       "      <td>0</td>\n",
       "      <td>0</td>\n",
       "      <td>0</td>\n",
       "      <td>0</td>\n",
       "      <td>0</td>\n",
       "      <td>0</td>\n",
       "      <td>0</td>\n",
       "      <td>0</td>\n",
       "      <td>0</td>\n",
       "    </tr>\n",
       "    <tr>\n",
       "      <th>7</th>\n",
       "      <td>1</td>\n",
       "      <td>1.792718e+07</td>\n",
       "      <td>21000000</td>\n",
       "      <td>0</td>\n",
       "      <td>0</td>\n",
       "      <td>0</td>\n",
       "      <td>0</td>\n",
       "      <td>0</td>\n",
       "      <td>0</td>\n",
       "      <td>0</td>\n",
       "      <td>...</td>\n",
       "      <td>0</td>\n",
       "      <td>0</td>\n",
       "      <td>0</td>\n",
       "      <td>0</td>\n",
       "      <td>0</td>\n",
       "      <td>0</td>\n",
       "      <td>0</td>\n",
       "      <td>0</td>\n",
       "      <td>0</td>\n",
       "      <td>0</td>\n",
       "    </tr>\n",
       "    <tr>\n",
       "      <th>8</th>\n",
       "      <td>1</td>\n",
       "      <td>1.076842e+08</td>\n",
       "      <td>0</td>\n",
       "      <td>0</td>\n",
       "      <td>0</td>\n",
       "      <td>0</td>\n",
       "      <td>0</td>\n",
       "      <td>0</td>\n",
       "      <td>0</td>\n",
       "      <td>0</td>\n",
       "      <td>...</td>\n",
       "      <td>0</td>\n",
       "      <td>0</td>\n",
       "      <td>0</td>\n",
       "      <td>0</td>\n",
       "      <td>0</td>\n",
       "      <td>0</td>\n",
       "      <td>0</td>\n",
       "      <td>0</td>\n",
       "      <td>0</td>\n",
       "      <td>0</td>\n",
       "    </tr>\n",
       "  </tbody>\n",
       "</table>\n",
       "<p>5 rows × 102 columns</p>\n",
       "</div>"
      ],
      "text/plain": [
       "   IsTrading  TotalCoinsMined TotalCoinSupply  \\\n",
       "0          1     4.199995e+01              42   \n",
       "2          1     1.055185e+09       532000000   \n",
       "5          1     2.927942e+10    314159265359   \n",
       "7          1     1.792718e+07        21000000   \n",
       "8          1     1.076842e+08               0   \n",
       "\n",
       "   Algorithm_1GB AES Pattern Search  Algorithm_536  Algorithm_Argon2d  \\\n",
       "0                                 0              0                  0   \n",
       "2                                 0              0                  0   \n",
       "5                                 0              0                  0   \n",
       "7                                 0              0                  0   \n",
       "8                                 0              0                  0   \n",
       "\n",
       "   Algorithm_BLAKE256  Algorithm_Blake  Algorithm_Blake2S  Algorithm_Blake2b  \\\n",
       "0                   0                0                  0                  0   \n",
       "2                   0                0                  0                  0   \n",
       "5                   0                0                  0                  0   \n",
       "7                   0                0                  0                  0   \n",
       "8                   0                0                  0                  0   \n",
       "\n",
       "   ...  ProofType_PoW/PoS  ProofType_PoW/PoS   ProofType_PoW/PoW  \\\n",
       "0  ...                  1                   0                  0   \n",
       "2  ...                  1                   0                  0   \n",
       "5  ...                  1                   0                  0   \n",
       "7  ...                  0                   0                  0   \n",
       "8  ...                  0                   0                  0   \n",
       "\n",
       "   ProofType_PoW/nPoS  ProofType_Pos  ProofType_Proof of Authority  \\\n",
       "0                   0              0                             0   \n",
       "2                   0              0                             0   \n",
       "5                   0              0                             0   \n",
       "7                   0              0                             0   \n",
       "8                   0              0                             0   \n",
       "\n",
       "   ProofType_Proof of Trust  ProofType_TPoS  ProofType_Zero-Knowledge Proof  \\\n",
       "0                         0               0                               0   \n",
       "2                         0               0                               0   \n",
       "5                         0               0                               0   \n",
       "7                         0               0                               0   \n",
       "8                         0               0                               0   \n",
       "\n",
       "   ProofType_dPoW/PoW  \n",
       "0                   0  \n",
       "2                   0  \n",
       "5                   0  \n",
       "7                   0  \n",
       "8                   0  \n",
       "\n",
       "[5 rows x 102 columns]"
      ]
     },
     "execution_count": 14,
     "metadata": {},
     "output_type": "execute_result"
    }
   ],
   "source": [
    "# In order for your dataset to be comprehensible to a machine learning algorithm, its data should be numeric.\n",
    "crypto_x = pd.get_dummies(data=crypto_df, columns=[\"Algorithm\", \"ProofType\"])\n",
    "crypto_x.head()"
   ]
  },
  {
   "cell_type": "code",
   "execution_count": 15,
   "id": "21142e7a",
   "metadata": {},
   "outputs": [],
   "source": [
    "# Convert the remaining features with text values, `Algorithm` and `ProofType`, into numerical data.\n",
    "scaler = StandardScaler()\n",
    "crypto_scaled = scaler.fit_transform(crypto_x)"
   ]
  },
  {
   "cell_type": "code",
   "execution_count": 16,
   "id": "ca95c56d",
   "metadata": {},
   "outputs": [
    {
     "data": {
      "text/plain": [
       "array([ 0.29083753, -0.11450078, -0.15072489, -0.04166667, -0.04166667,\n",
       "       -0.04166667, -0.05897678, -0.0934947 , -0.04166667, -0.05897678,\n",
       "       -0.05897678, -0.04166667, -0.04166667, -0.18949048, -0.05897678,\n",
       "       -0.0934947 , -0.04166667, -0.11081833, -0.0722944 , -0.04166667,\n",
       "       -0.04166667, -0.1518211 , -0.04166667, -0.13280318, -0.04166667,\n",
       "       -0.04166667, -0.0835512 , -0.05897678, -0.04166667, -0.04166667,\n",
       "       -0.04166667, -0.05897678, -0.04166667, -0.0835512 , -0.0934947 ,\n",
       "       -0.10250796, -0.04166667, -0.1258772 , -0.13280318, -0.1518211 ,\n",
       "       -0.04166667, -0.0835512 , -0.04166667, -0.04166667, -0.0722944 ,\n",
       "       -0.17423301, -0.04166667, -0.04166667, -0.04166667, -0.0722944 ,\n",
       "       -0.16888013, -0.30802055, -0.04166667, -0.0934947 , -0.0934947 ,\n",
       "       -0.05897678,  1.39963365, -0.04166667, -0.04166667, -0.04166667,\n",
       "       -0.0835512 , -0.04166667, -0.04166667, -0.04166667, -0.04166667,\n",
       "       -0.04166667, -0.05897678, -0.04166667, -0.04166667, -0.39536391,\n",
       "       -0.04166667, -0.17423301, -0.04166667, -0.0835512 , -0.0835512 ,\n",
       "       -0.10250796, -0.04166667, -0.1258772 , -0.04166667, -0.04166667,\n",
       "       -0.04166667, -0.04166667, -0.04166667, -0.0722944 , -0.44395432,\n",
       "       -0.04166667, -0.05897678, -0.04166667, -0.04166667, -0.88990194,\n",
       "       -0.04166667, -0.04166667,  1.41054504, -0.04166667, -0.04166667,\n",
       "       -0.04166667, -0.04166667, -0.04166667, -0.04166667, -0.04166667,\n",
       "       -0.04166667, -0.04166667])"
      ]
     },
     "execution_count": 16,
     "metadata": {},
     "output_type": "execute_result"
    }
   ],
   "source": [
    "# Check that the data was scaled\n",
    "crypto_scaled[0]"
   ]
  },
  {
   "cell_type": "markdown",
   "id": "9d9e9540",
   "metadata": {},
   "source": [
    "### Dimensionality Reduction"
   ]
  },
  {
   "cell_type": "code",
   "execution_count": 17,
   "id": "dd4d29b3",
   "metadata": {},
   "outputs": [],
   "source": [
    "# Preserve 90% of the explained variance in dimensionality reduction\n",
    "pca = PCA(n_components=0.90)\n",
    "pca_transformed_data = pca.fit_transform(crypto_scaled)"
   ]
  },
  {
   "cell_type": "code",
   "execution_count": 18,
   "id": "0cb982a5",
   "metadata": {},
   "outputs": [],
   "source": [
    "# Further reduce the dataset dimensions with t-SNE and visually inspect the results\n",
    "tsne = TSNE(learning_rate=100)\n",
    "transformed_features = tsne.fit_transform(pca_transformed_data)"
   ]
  },
  {
   "cell_type": "code",
   "execution_count": 19,
   "id": "ef6aa762",
   "metadata": {
    "scrolled": true
   },
   "outputs": [
    {
     "data": {
      "text/plain": [
       "92.81861900542566"
      ]
     },
     "execution_count": 19,
     "metadata": {},
     "output_type": "execute_result"
    }
   ],
   "source": [
    "# The sum of the explained variance of the principal components\n",
    "pca.explained_variance_.sum()"
   ]
  },
  {
   "cell_type": "code",
   "execution_count": 20,
   "id": "b8477948",
   "metadata": {},
   "outputs": [],
   "source": [
    "# Preserve 99% of the explained variance in dimensionality reduction\n",
    "pca = PCA(n_components=0.99)\n",
    "pca_transformed_data = pca.fit_transform(crypto_scaled)"
   ]
  },
  {
   "cell_type": "code",
   "execution_count": 21,
   "id": "9038af92",
   "metadata": {},
   "outputs": [],
   "source": [
    "# Further reduce the dataset dimensions with t-SNE and visually inspect the results\n",
    "tsne = TSNE(learning_rate=100)\n",
    "transformed_features = tsne.fit_transform(pca_transformed_data)"
   ]
  },
  {
   "cell_type": "code",
   "execution_count": 22,
   "id": "2e1da055",
   "metadata": {},
   "outputs": [
    {
     "data": {
      "text/plain": [
       "101.33922305417208"
      ]
     },
     "execution_count": 22,
     "metadata": {},
     "output_type": "execute_result"
    }
   ],
   "source": [
    "# The sum of the explained variance of the principal components\n",
    "pca.explained_variance_.sum()"
   ]
  },
  {
   "cell_type": "markdown",
   "id": "5df1cb32",
   "metadata": {},
   "source": [
    "#### Preserving approximately 99% of the explained variance made a significant difference."
   ]
  },
  {
   "cell_type": "code",
   "execution_count": 24,
   "id": "5eb1b8b7",
   "metadata": {},
   "outputs": [
    {
     "data": {
      "text/plain": [
       "<function matplotlib.pyplot.show(close=None, block=None)>"
      ]
     },
     "execution_count": 24,
     "metadata": {},
     "output_type": "execute_result"
    },
    {
     "data": {
      "image/png": "[encoded data removed]",
      "text/plain": [
       "<Figure size 432x288 with 1 Axes>"
      ]
     },
     "metadata": {
      "needs_background": "light"
     },
     "output_type": "display_data"
    }
   ],
   "source": [
    "# Then create a scatter plot of the t-SNE output.\n",
    "x = transformed_features[:,0]\n",
    "y = transformed_features[:,1]\n",
    "\n",
    "plt.scatter(x,y)\n",
    "plt.show"
   ]
  },
  {
   "cell_type": "markdown",
   "id": "c25c9dc6",
   "metadata": {},
   "source": [
    "### Cluster Analysis with k-Means"
   ]
  },
  {
   "cell_type": "code",
   "execution_count": 25,
   "id": "5e000556",
   "metadata": {},
   "outputs": [],
   "source": [
    "# Initializing model with K = 3 (since we already know there are three classes of iris plants)\n",
    "model = KMeans(n_clusters=3, random_state=5)"
   ]
  },
  {
   "cell_type": "code",
   "execution_count": 26,
   "id": "ffaa6286",
   "metadata": {},
   "outputs": [
    {
     "data": {
      "text/html": [
       "<div>\n",
       "<style scoped>\n",
       "    .dataframe tbody tr th:only-of-type {\n",
       "        vertical-align: middle;\n",
       "    }\n",
       "\n",
       "    .dataframe tbody tr th {\n",
       "        vertical-align: top;\n",
       "    }\n",
       "\n",
       "    .dataframe thead th {\n",
       "        text-align: right;\n",
       "    }\n",
       "</style>\n",
       "<table border=\"1\" class=\"dataframe\">\n",
       "  <thead>\n",
       "    <tr style=\"text-align: right;\">\n",
       "      <th></th>\n",
       "      <th>k</th>\n",
       "      <th>inertia</th>\n",
       "    </tr>\n",
       "  </thead>\n",
       "  <tbody>\n",
       "    <tr>\n",
       "      <th>0</th>\n",
       "      <td>1</td>\n",
       "      <td>58854.000000</td>\n",
       "    </tr>\n",
       "    <tr>\n",
       "      <th>1</th>\n",
       "      <td>2</td>\n",
       "      <td>57477.996300</td>\n",
       "    </tr>\n",
       "    <tr>\n",
       "      <th>2</th>\n",
       "      <td>3</td>\n",
       "      <td>56321.129489</td>\n",
       "    </tr>\n",
       "    <tr>\n",
       "      <th>3</th>\n",
       "      <td>4</td>\n",
       "      <td>55623.220340</td>\n",
       "    </tr>\n",
       "    <tr>\n",
       "      <th>4</th>\n",
       "      <td>5</td>\n",
       "      <td>54695.340504</td>\n",
       "    </tr>\n",
       "  </tbody>\n",
       "</table>\n",
       "</div>"
      ],
      "text/plain": [
       "   k       inertia\n",
       "0  1  58854.000000\n",
       "1  2  57477.996300\n",
       "2  3  56321.129489\n",
       "3  4  55623.220340\n",
       "4  5  54695.340504"
      ]
     },
     "execution_count": 26,
     "metadata": {},
     "output_type": "execute_result"
    }
   ],
   "source": [
    "inertia = []\n",
    "k = list(range(1, 10))\n",
    "\n",
    "# Calculate the inertia for the range of k values\n",
    "for i in k:\n",
    "    km = KMeans(n_clusters=i, random_state=0)\n",
    "    km.fit(crypto_scaled)\n",
    "    inertia.append(km.inertia_)\n",
    "\n",
    "# Create the Elbow Curve using hvPlot\n",
    "elbow_data = {\"k\": k, \"inertia\": inertia}\n",
    "df_elbow = pd.DataFrame(elbow_data)\n",
    "df_elbow.head()"
   ]
  },
  {
   "cell_type": "code",
   "execution_count": 28,
   "id": "4eb4914b",
   "metadata": {},
   "outputs": [
    {
     "data": {
      "image/png": "[encoded data removed]",
      "text/plain": [
       "<Figure size 432x288 with 1 Axes>"
      ]
     },
     "metadata": {
      "needs_background": "light"
     },
     "output_type": "display_data"
    }
   ],
   "source": [
    "# Plot the elbow curve to find the best candidate(s) for k\n",
    "plt.plot(df_elbow['k'], df_elbow['inertia'])\n",
    "plt.xticks(range(1,10))\n",
    "plt.xlabel('Number of clusters')\n",
    "plt.ylabel('Inertia')\n",
    "plt.title('Elbow curve for customer data')\n",
    "plt.show()"
   ]
  },
  {
   "cell_type": "markdown",
   "id": "fb6cf337",
   "metadata": {},
   "source": [
    "### Recommendation"
   ]
  },
  {
   "cell_type": "markdown",
   "id": "c8422d93",
   "metadata": {},
   "source": [
    "#### The cryptocurrencies can not be clustered together as the elbow curve fails the classification of this dataset."
   ]
  }
 ],
 "metadata": {
  "kernelspec": {
   "display_name": "Python 3",
   "language": "python",
   "name": "python3"
  },
  "language_info": {
   "codemirror_mode": {
    "name": "ipython",
    "version": 3
   },
   "file_extension": ".py",
   "mimetype": "text/x-python",
   "name": "python",
   "nbconvert_exporter": "python",
   "pygments_lexer": "ipython3",
   "version": "3.6.13"
  }
 },
 "nbformat": 4,
 "nbformat_minor": 5
}
